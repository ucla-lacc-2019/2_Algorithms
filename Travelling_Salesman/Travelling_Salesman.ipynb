{
 "cells": [
  {
   "cell_type": "markdown",
   "metadata": {},
   "source": [
    "# Travelling Salesman Mini Project\n",
    "\n",
    "In this mini project, we will implement a good algorithm to reduce the cost of Mr.Obama(or some other important person)'s trip."
   ]
  },
  {
   "cell_type": "markdown",
   "metadata": {},
   "source": [
    "Again, first load the modules we'll need."
   ]
  },
  {
   "cell_type": "code",
   "execution_count": null,
   "metadata": {},
   "outputs": [],
   "source": [
    "from tools import *\n",
    "import sys\n",
    "import re\n",
    "import speedy\n",
    "\n",
    "#Reload modules automatically so that we don't need to restart the notebook\n",
    "%load_ext autoreload\n",
    "%autoreload 2"
   ]
  },
  {
   "cell_type": "markdown",
   "metadata": {},
   "source": [
    "Initializations and file loading"
   ]
  },
  {
   "cell_type": "code",
   "execution_count": null,
   "metadata": {},
   "outputs": [],
   "source": [
    "m = world()\n",
    "# load the map\n",
    "m.read_locations('usa.loc')\n",
    "\n",
    "# locations \n",
    "places = list(m.locations.values())"
   ]
  },
  {
   "cell_type": "markdown",
   "metadata": {},
   "source": [
    "Implement the speedyTrip() function in speedy.py. Then test our algorithms in the code below:"
   ]
  },
  {
   "cell_type": "code",
   "execution_count": null,
   "metadata": {},
   "outputs": [],
   "source": [
    "places = speedy.speedyTrip(places)\n",
    "m.input_trip(places)"
   ]
  },
  {
   "cell_type": "markdown",
   "metadata": {},
   "source": [
    "__(Optional)__ What will you do if some of the routes are blocked? <br>\n",
    "For example: <br>\n",
    "Austin-TX – Miami-FL <br>\n",
    "Washington_DC – Baltimore-MD <br>\n",
    "Ann_Arbor-MI  – St_Louis-MO <br>\n",
    "Vancouver-BC –Raleigh-NC <br>\n",
    "Atlanta-GA – Miami-Fl <br>\n",
    "Improve the speedyTrip() function to avoid these routes, and test it in the code below:"
   ]
  },
  {
   "cell_type": "code",
   "execution_count": null,
   "metadata": {},
   "outputs": [],
   "source": [
    "m.input_trip(places, blocked = True)"
   ]
  }
 ],
 "metadata": {
  "kernelspec": {
   "display_name": "Python 3",
   "language": "python",
   "name": "python3"
  },
  "language_info": {
   "codemirror_mode": {
    "name": "ipython",
    "version": 3
   },
   "file_extension": ".py",
   "mimetype": "text/x-python",
   "name": "python",
   "nbconvert_exporter": "python",
   "pygments_lexer": "ipython3",
   "version": "3.6.4"
  }
 },
 "nbformat": 4,
 "nbformat_minor": 2
}
