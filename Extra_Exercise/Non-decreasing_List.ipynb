{
 "cells": [
  {
   "cell_type": "markdown",
   "metadata": {},
   "source": [
    "# Non-decreasing List\n",
    "Given a list with n integers, your task is to check if it could become non-decreasing by modifying at most 1 element.\n",
    "We define a list is non-decreasing if list[i] <= list[i + 1] holds for every i (0 <= i < n-2).\n",
    "### Example 1:\n",
    "Input: [4,2,3]<br>\n",
    "Output: True<br>\n",
    "Explanation: You could modify the first 4 to 1 to get a non-decreasing array.\n",
    "### Example 2:\n",
    "Input: [4,2,1]<br>\n",
    "Output: False<br>\n",
    "Explanation: You can't get a non-decreasing array by modify at most one element.\n",
    "\n",
    "Note: The n belongs to [1, 10,000].<br>\n",
    "\n",
    "_Adapted from LeetCode_"
   ]
  },
  {
   "cell_type": "code",
   "execution_count": null,
   "metadata": {},
   "outputs": [],
   "source": [
    "# Test data loading\n",
    "import pickle\n",
    "\n",
    "with open ('./NDL_test_data', 'rb') as fp:\n",
    "    test_data = pickle.load(fp)"
   ]
  },
  {
   "cell_type": "markdown",
   "metadata": {},
   "source": [
    "Your list-checking function"
   ]
  },
  {
   "cell_type": "code",
   "execution_count": null,
   "metadata": {},
   "outputs": [],
   "source": [
    "def checkPossibility(nums):\n",
    "    \"\"\"\n",
    "    :type nums: List[int]\n",
    "    :return type: bool\n",
    "    \"\"\"\n",
    "    #Modify this function\n",
    "    return True"
   ]
  },
  {
   "cell_type": "markdown",
   "metadata": {},
   "source": [
    "Test your function by running the code below"
   ]
  },
  {
   "cell_type": "code",
   "execution_count": null,
   "metadata": {},
   "outputs": [],
   "source": [
    "import time\n",
    "correct = 0\n",
    "total = 0\n",
    "start_time = time.time()\n",
    "for test_vector in test_data:\n",
    "    test_list = test_vector[0].copy()\n",
    "    true_result = test_vector[1]\n",
    "    test_result = checkPossibility(test_vector[0])\n",
    "    if test_result == true_result:\n",
    "        correct +=1\n",
    "    else:\n",
    "        print(\"List under test is: \" + str(test_list) + \". Correct result is: \" + str(true_result) + \". Your result is: \" + str(test_result))\n",
    "    total +=1\n",
    "end_time = time.time()\n",
    "print(\"%i/%i test cases passed\" %(correct, total))\n",
    "print(\"Total time taken is %.6fseconds\" %(end_time-start_time))"
   ]
  }
 ],
 "metadata": {
  "kernelspec": {
   "display_name": "Python 3",
   "language": "python",
   "name": "python3"
  },
  "language_info": {
   "codemirror_mode": {
    "name": "ipython",
    "version": 3
   },
   "file_extension": ".py",
   "mimetype": "text/x-python",
   "name": "python",
   "nbconvert_exporter": "python",
   "pygments_lexer": "ipython3",
   "version": "3.6.5"
  }
 },
 "nbformat": 4,
 "nbformat_minor": 2
}
